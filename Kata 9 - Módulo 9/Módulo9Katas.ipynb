{
  "cells": [
    {
      "cell_type": "markdown",
      "metadata": {},
      "source": [
        "# Ejercicio: Uso de funciones en Python"
      ]
    },
    {
      "cell_type": "markdown",
      "metadata": {},
      "source": [
        "### Ejercicio 1: Trabajar con argumentos en funciones\n",
        "\n",
        "Los argumentos requeridos en las funciones se utilizan cuando las funciones necesitan que esos argumentos funcionen correctamente. En este ejercicio, construirás un informe de combustible que requiere información de varias ubicaciones de combustible en todo el cohete.\n",
        "\n"
      ]
    },
    {
      "cell_type": "markdown",
      "metadata": {},
      "source": [
        "> **TIP**\n",
        "> Dedica unos minutos para tratar de encontrar una solución. Luego desplázate hacia abajo hasta la parte inferior para ver si has logrado compilar el programa de acuerdo con las especificaciones\n",
        "\n",
        "Comienza por crear una función que necesite tres lecturas de combustible y devuelva un informe:"
      ]
    },
    {
      "cell_type": "code",
      "execution_count": 26,
      "metadata": {},
      "outputs": [],
      "source": [
        "# Función para leer 3 tanques de combustible y muestre el promedio\n",
        "def fuelBrief(fSource1,fSource2,fSource3):\n",
        "    print(f\"\"\"\n",
        "    Informe de combustibles\n",
        "    -----------------------\n",
        "    Primer ubicación: {fSource1} lts.\n",
        "    Segunda ubicación: {fSource2} lts.\n",
        "    Tercer ubicación: {fSource3} lts.\"\"\")"
      ]
    },
    {
      "cell_type": "markdown",
      "metadata": {},
      "source": [
        "Ahora que hemos definido la función de informes, vamos a comprobarlo. Para esta misión, los tanques no están llenos:"
      ]
    },
    {
      "cell_type": "code",
      "execution_count": 27,
      "metadata": {},
      "outputs": [
        {
          "name": "stdout",
          "output_type": "stream",
          "text": [
            "\n",
            "    Informe de combustibles\n",
            "    -----------------------\n",
            "    Primer ubicación: 0 lts.\n",
            "    Segunda ubicación: 0 lts.\n",
            "    Tercer ubicación: 0 lts.\n"
          ]
        }
      ],
      "source": [
        "\n",
        "# Llamamos a la función que genera el reporte print(funcion(tanque1, tanque2, tanque3))\n",
        "fuelBrief(0,0,0)"
      ]
    },
    {
      "cell_type": "markdown",
      "metadata": {},
      "source": [
        "En lugar de simplemente crear el informe, la función también está calculando el promedio. Mejora la legibilidad extrayendo el cálculo promedio de la función en una nueva función para que el promedio se pueda hacer de forma independiente:"
      ]
    },
    {
      "cell_type": "code",
      "execution_count": 38,
      "metadata": {},
      "outputs": [],
      "source": [
        "# Función promedio \n",
        "def fuelAverage(fuel):\n",
        "    totalFuel = 0\n",
        "    for source in fuel:\n",
        "        totalFuel += source\n",
        "    print(f\"El cohete cuenta con un promedio de combustible de: {totalFuel/len(fuel)} lts.\")"
      ]
    },
    {
      "cell_type": "markdown",
      "metadata": {},
      "source": [
        "Ahora actualiza la función de informes para llamando a la nueva función del promedio:\n"
      ]
    },
    {
      "cell_type": "code",
      "execution_count": 39,
      "metadata": {},
      "outputs": [
        {
          "name": "stdout",
          "output_type": "stream",
          "text": [
            "\n",
            "    Informe de combustibles\n",
            "    -----------------------\n",
            "    Primer ubicación: 50000 lts.\n",
            "    Segunda ubicación: 45000 lts.\n",
            "    Tercer ubicación: 25000 lts.\n",
            "\n",
            "El cohete cuenta con un promedio de combustible de: 40000.0 lts.\n"
          ]
        }
      ],
      "source": [
        "# Actualiza la función\n",
        "def fuelBrief(fSource1,fSource2,fSource3):\n",
        "    print(f\"\"\"\n",
        "    Informe de combustibles\n",
        "    -----------------------\n",
        "    Primer ubicación: {fSource1} lts.\n",
        "    Segunda ubicación: {fSource2} lts.\n",
        "    Tercer ubicación: {fSource3} lts.\\n\"\"\")\n",
        "    \n",
        "    fuelSources = [fSource1,fSource2,fSource3]\n",
        "    return fuelSources\n",
        "\n",
        "fuelAverage(fuelBrief(50000,45000,25000))"
      ]
    },
    {
      "cell_type": "markdown",
      "metadata": {},
      "source": [
        "> Recuerda: Lo importante es intentarlo, puedes auxiliarte de internet, libros, etc. El objetivo de una kata es la comprobación de la comprensión de la lección y su aplicación inmediata a la resolución de problemas. Go for it!"
      ]
    },
    {
      "cell_type": "markdown",
      "metadata": {},
      "source": [
        "## Ejercicio 2: Trabajo con argumentos de palabra clave"
      ]
    },
    {
      "cell_type": "markdown",
      "metadata": {},
      "source": [
        "### Ejercicio : Trabajar con argumentos de palabras clave en funciones\n",
        "En este ejercicio, construirás un informe de cohete que requiere varias piezas de información, como el tiempo hasta el destino, el combustible a la izquierda y el nombre del destino. Comienza por crear una función que creará un informe preciso de la misión:"
      ]
    },
    {
      "cell_type": "code",
      "execution_count": 106,
      "metadata": {},
      "outputs": [],
      "source": [
        "# Función con un informe preciso de la misión. Considera hora de prelanzamiento, tiempo de vuelo, destino, tanque externo y tanque interno\n",
        "from datetime import timedelta, datetime\n",
        "\n",
        "def missionBrief(launchTime,mainFuel,reserviorFuel,destiny='Moon',flightETA=51):\n",
        "    arrival = launchTime + timedelta(hours=flightETA)\n",
        "    dArrival = arrival.strftime(f\"%b %d, %Y @%H:%M\")\n",
        "    \n",
        "    print(f\"\"\"\n",
        "    Informe general de misión:\n",
        "    --------------------------\n",
        "    Horario de prelanzamiento: {launchTime.strftime(f\"%b %d, %Y @%H:%M\")}\n",
        "    Tiempo estimado de vuelo a {destiny}: {dArrival}\n",
        "    Tanques de combustible principales: {len(mainFuel)}\n",
        "    Capacidad total de tanques principales: {sum(mainFuel)} lts.\n",
        "    Tanques de combustible de reserva: {len(reserviorFuel)}\n",
        "    Capacidad total de tanques de reserva: {sum(reserviorFuel)} lts.\\n\n",
        "    ¡Buen viaje, tripulación!\\n\"\"\")"
      ]
    },
    {
      "cell_type": "markdown",
      "metadata": {},
      "source": [
        "La función es problemática porque no se puede adaptar para minutos adicionales o tanques adicionales de combustible. Hazlo más flexible permitiendo cualquier número de pasos basados en el tiempo y cualquier número de tanques. En lugar de usar `*args` y `**kwargs`, aprovecha el hecho de que puedes usar cualquier nombre que desees. Asegurate que la función sea más legible mediante el uso de nombres de variables que están asociados con las entradas, como `*minutes` y `**fuel_reservoirs`:"
      ]
    },
    {
      "cell_type": "code",
      "execution_count": 94,
      "metadata": {},
      "outputs": [],
      "source": [
        "# Escribe tu nueva función de reporte considerando lo anterior\n",
        "\n",
        "def launchTime(*delayHours):\n",
        "    print(f\"\"\"\n",
        "    Retraso total para el despegue: {sum(delayHours)} hrs.\"\"\")\n",
        "    now = datetime.now()\n",
        "    launch = now + timedelta(hours=sum(delayHours))\n",
        "    return launch\n",
        "\n",
        "def reserviorFuel(*fuelTanks):\n",
        "    print(f\"\"\"\n",
        "    Capacidad de Tanques de Combustible de Reserva:\"\"\")\n",
        "    for tank in range(len(fuelTanks)):\n",
        "        print(f\"\\tTanque No. {tank}: {fuelTanks[tank]} lts.\")\n",
        "    return fuelTanks\n"
      ]
    },
    {
      "cell_type": "markdown",
      "metadata": {},
      "source": [
        "Debido a que el combustible que queda en los tanques es específico de cada tanque, actualiza la función para usar el nombre de cada tanque en el informe:"
      ]
    },
    {
      "cell_type": "code",
      "execution_count": 99,
      "metadata": {},
      "outputs": [],
      "source": [
        "# Escribe tu nueva función\n",
        "def mainFuel(**fuelTanks):\n",
        "    print(f\"\"\"\n",
        "    Capacidad de Tanques de Combustible Principales:\"\"\")\n",
        "    for source, tank in fuelTanks.items():\n",
        "        print(f\"\\tTanque {source.title()}: {tank} lts.\")\n",
        "    return list(fuelTanks.values())"
      ]
    },
    {
      "cell_type": "code",
      "execution_count": 107,
      "metadata": {},
      "outputs": [
        {
          "name": "stdout",
          "output_type": "stream",
          "text": [
            "\n",
            "    Retraso total para el despegue: 9 hrs.\n",
            "\n",
            "    Capacidad de Tanques de Combustible Principales:\n",
            "\tTanque Izquierdo: 35000 lts.\n",
            "\tTanque Derecho: 35000 lts.\n",
            "\tTanque Central: 45000 lts.\n",
            "\n",
            "    Capacidad de Tanques de Combustible de Reserva:\n",
            "\tTanque No. 0: 3500 lts.\n",
            "\tTanque No. 1: 5500 lts.\n",
            "\tTanque No. 2: 2500 lts.\n",
            "\n",
            "    Informe general de misión:\n",
            "    --------------------------\n",
            "    Horario de prelanzamiento: Feb 17, 2022 @08:51\n",
            "    Tiempo estimado de vuelo a Moon: Feb 19, 2022 @11:51\n",
            "    Tanques de combustible principales: 3\n",
            "    Capacidad total de tanques principales: 115000 lts.\n",
            "    Tanques de combustible de reserva: 3\n",
            "    Capacidad total de tanques de reserva: 11500 lts.\n",
            "\n",
            "    ¡Buen viaje, tripulación!\n",
            "\n"
          ]
        }
      ],
      "source": [
        "missionBrief(\n",
        "    launchTime(1,5,3),\n",
        "    mainFuel(izquierdo=35000,derecho=35000,central=45000),\n",
        "    reserviorFuel(3500,5500,2500)\n",
        ")"
      ]
    },
    {
      "cell_type": "markdown",
      "metadata": {},
      "source": [
        "## Soluciones"
      ]
    },
    {
      "cell_type": "markdown",
      "metadata": {},
      "source": [
        "## Ejercicio 1"
      ]
    },
    {
      "cell_type": "code",
      "execution_count": null,
      "metadata": {},
      "outputs": [],
      "source": [
        "# Función para leer 3 tanques de combustible y muestre el promedio\n",
        "\n",
        "def generate_report(main_tank, external_tank, hydrogen_tank):\n",
        "    total_average = (main_tank + external_tank + hydrogen_tank) / 3\n",
        "    return f\"\"\"Fuel Report:\n",
        "    Total Average: {total_average}%\n",
        "    Main tank: {main_tank}%\n",
        "    External tank: {external_tank}%\n",
        "    Hydrogen tank: {hydrogen_tank}% \n",
        "    \"\"\"\n"
      ]
    },
    {
      "cell_type": "code",
      "execution_count": null,
      "metadata": {},
      "outputs": [],
      "source": [
        "# Llamamos a la función que genera el reporte print(funcion(tanque1, tanque2, tanque3))\n",
        "print(generate_report(80, 70, 85))"
      ]
    },
    {
      "cell_type": "code",
      "execution_count": null,
      "metadata": {},
      "outputs": [],
      "source": [
        "# Función promedio \n",
        "def average(values):\n",
        "    total = sum(values)\n",
        "    number_of_items = len(values)\n",
        "    return total / number_of_items\n",
        "\n",
        "# Test the averaging function with a list of integers:\n",
        "average([80, 85, 81]) "
      ]
    },
    {
      "cell_type": "code",
      "execution_count": null,
      "metadata": {},
      "outputs": [],
      "source": [
        "# Actualiza la función\n",
        "def generate_report(main_tank, external_tank, hydrogen_tank):\n",
        "    return f\"\"\"Fuel Report:\n",
        "    Total Average: {average([main_tank, external_tank, hydrogen_tank])}%\n",
        "    Main tank: {main_tank}%\n",
        "    External tank: {external_tank}%\n",
        "    Hydrogen tank: {hydrogen_tank}% \n",
        "    \"\"\"\n",
        "\n",
        "# Call the updated function again with different values\n",
        "print(generate_report(88, 76, 70))"
      ]
    },
    {
      "cell_type": "markdown",
      "metadata": {},
      "source": [
        "### Ejercicio 2:"
      ]
    },
    {
      "cell_type": "code",
      "execution_count": null,
      "metadata": {},
      "outputs": [],
      "source": [
        "# Función con un informe preciso de la misión. Considera hora de prelanzamiento, tiempo de vuelo, destino, tanque externo y tanque interno\n",
        "\n",
        "def mission_report(pre_launch_time, flight_time, destination, external_tank, main_tank):\n",
        "    return f\"\"\"\n",
        "    Mission to {destination}\n",
        "    Total travel time: {pre_launch_time + flight_time} minutes\n",
        "    Total fuel left: {external_tank + main_tank} gallons\n",
        "    \"\"\"\n",
        "\n",
        "print(mission_report(14, 51, \"Moon\", 200000, 300000))"
      ]
    },
    {
      "cell_type": "code",
      "execution_count": null,
      "metadata": {},
      "outputs": [],
      "source": [
        "# Escribe tu nueva función de reporte considerando lo anterior\n",
        "\n",
        "def mission_report(destination, *minutes, **fuel_reservoirs):\n",
        "    return f\"\"\"\n",
        "    Mission to {destination}\n",
        "    Total travel time: {sum(minutes)} minutes\n",
        "    Total fuel left: {sum(fuel_reservoirs.values())}\n",
        "    \"\"\"\n",
        "\n",
        "print(mission_report(\"Moon\", 10, 15, 51, main=300000, external=200000))"
      ]
    },
    {
      "cell_type": "code",
      "execution_count": null,
      "metadata": {},
      "outputs": [],
      "source": [
        "# Escribe tu nueva función\n",
        "\n",
        "def mission_report(destination, *minutes, **fuel_reservoirs):\n",
        "    main_report = f\"\"\"\n",
        "    Mission to {destination}\n",
        "    Total travel time: {sum(minutes)} minutes\n",
        "    Total fuel left: {sum(fuel_reservoirs.values())}\n",
        "    \"\"\"\n",
        "    for tank_name, gallons in fuel_reservoirs.items():\n",
        "        main_report += f\"{tank_name} tank --> {gallons} gallons left\\n\"\n",
        "    return main_report\n",
        "\n",
        "print(mission_report(\"Moon\", 8, 11, 55, main=300000, external=200000))"
      ]
    },
    {
      "cell_type": "markdown",
      "metadata": {},
      "source": [
        "---\n",
        "\n",
        "Curso Propedútico de Python para Launch X - Innovacción Virtual.\n",
        "\n",
        "Material desarrollado con base en los contenidos de MSLearn y la metáfora de LaunchX, traducción e implementación por: Fernanda Ochoa - Learning Producer de LaunchX.\n",
        "\n",
        "Redes:\n",
        "* GitHub: [FernandaOchoa](https://github.com/FernandaOchoa)\n",
        "* Twitter: [@imonsh](https://twitter.com/imonsh)\n",
        "* Instagram: [fherz8a](https://www.instagram.com/fherz8a/)"
      ]
    }
  ],
  "metadata": {
    "interpreter": {
      "hash": "205095b8b86ea82a021a8fc2ffba2b3bc9f8d0be25999901963b225939f75778"
    },
    "kernelspec": {
      "display_name": "Python 3.8.10 64-bit ('tmp': conda)",
      "name": "python3"
    },
    "language_info": {
      "codemirror_mode": {
        "name": "ipython",
        "version": 3
      },
      "file_extension": ".py",
      "mimetype": "text/x-python",
      "name": "python",
      "nbconvert_exporter": "python",
      "pygments_lexer": "ipython3",
      "version": "3.10.2"
    },
    "nteract": {
      "version": "nteract-front-end@1.0.0"
    },
    "orig_nbformat": 4
  },
  "nbformat": 4,
  "nbformat_minor": 2
}
